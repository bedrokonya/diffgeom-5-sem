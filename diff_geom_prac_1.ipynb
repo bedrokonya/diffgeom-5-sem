{
 "cells": [
  {
   "cell_type": "code",
   "execution_count": 221,
   "metadata": {
    "collapsed": true
   },
   "outputs": [],
   "source": [
    "import sympy as sp\n",
    "import numpy as np"
   ]
  },
  {
   "cell_type": "code",
   "execution_count": 337,
   "metadata": {
    "collapsed": false
   },
   "outputs": [],
   "source": [
    "sp.init_printing()"
   ]
  },
  {
   "cell_type": "code",
   "execution_count": 338,
   "metadata": {
    "collapsed": true
   },
   "outputs": [],
   "source": [
    "u, v, v0= sp.symbols('u v v0', real=True)"
   ]
  },
  {
   "cell_type": "code",
   "execution_count": 478,
   "metadata": {
    "collapsed": false
   },
   "outputs": [
    {
     "data": {
      "image/png": "[encoded data removed]",
      "text/latex": [
       "$$\\left[\\begin{matrix}\\sin{\\left (u \\right )} \\cos{\\left (u \\right )} \\cos{\\left (v \\right )}\\\\\\sin^{2}{\\left (u \\right )} \\sin{\\left (v \\right )}\\\\\\sin{\\left (u \\right )} \\sin{\\left (v \\right )} \\cos{\\left (u \\right )}\\end{matrix}\\right]$$"
      ],
      "text/plain": [
       "⎡sin(u)⋅cos(u)⋅cos(v)⎤\n",
       "⎢                    ⎥\n",
       "⎢      2             ⎥\n",
       "⎢   sin (u)⋅sin(v)   ⎥\n",
       "⎢                    ⎥\n",
       "⎣sin(u)⋅sin(v)⋅cos(u)⎦"
      ]
     },
     "execution_count": 478,
     "metadata": {},
     "output_type": "execute_result"
    }
   ],
   "source": [
    "#сфера-7\n",
    "x = sp.cos(u)*sp.cos(v)*sp.sin(u) \n",
    "y = sp.sin(u)*sp.sin(v)*sp.sin(u) \n",
    "z = sp.sin(u)*sp.sin(v)*sp.cos(u)\n",
    "r = sp.Matrix([x, y, z])\n",
    "r"
   ]
  },
  {
   "cell_type": "code",
   "execution_count": 515,
   "metadata": {
    "collapsed": false
   },
   "outputs": [
    {
     "data": {
      "image/png": "[encoded data removed]",
      "text/latex": [
       "$$\\left[\\begin{matrix}2 \\sin{\\left (v \\right )} \\cos{\\left (u \\right )} \\cos{\\left (v \\right )}\\\\\\sin{\\left (v \\right )}\\\\2 \\sin{\\left (u \\right )} \\sin{\\left (v \\right )} \\cos{\\left (v \\right )}\\end{matrix}\\right]$$"
      ],
      "text/plain": [
       "⎡2⋅sin(v)⋅cos(u)⋅cos(v)⎤\n",
       "⎢                      ⎥\n",
       "⎢        sin(v)        ⎥\n",
       "⎢                      ⎥\n",
       "⎣2⋅sin(u)⋅sin(v)⋅cos(v)⎦"
      ]
     },
     "execution_count": 515,
     "metadata": {},
     "output_type": "execute_result"
    }
   ],
   "source": [
    "#восьмерка\n",
    "x = sp.cos(u)*(2*sp.sin(v)*sp.cos(v)) \n",
    "y = sp.sin(v)\n",
    "z = sp.sin(u)*(2*sp.sin(v)*sp.cos(v))\n",
    "r = sp.Matrix([x, y, z])\n",
    "r"
   ]
  },
  {
   "cell_type": "code",
   "execution_count": 489,
   "metadata": {
    "collapsed": false
   },
   "outputs": [
    {
     "data": {
      "image/png": "[encoded data removed]",
      "text/latex": [
       "$$\\left[\\begin{matrix}\\frac{\\cos{\\left (u \\right )}}{\\sin{\\left (v \\right )} + \\sqrt{2}}\\\\\\frac{1}{\\cos{\\left (v \\right )} + \\sqrt{2}}\\\\\\frac{\\sin{\\left (u \\right )}}{\\sin{\\left (v \\right )} + \\sqrt{2}}\\end{matrix}\\right]$$"
      ],
      "text/plain": [
       "⎡   cos(u)  ⎤\n",
       "⎢───────────⎥\n",
       "⎢sin(v) + √2⎥\n",
       "⎢           ⎥\n",
       "⎢     1     ⎥\n",
       "⎢───────────⎥\n",
       "⎢cos(v) + √2⎥\n",
       "⎢           ⎥\n",
       "⎢   sin(u)  ⎥\n",
       "⎢───────────⎥\n",
       "⎣sin(v) + √2⎦"
      ]
     },
     "execution_count": 489,
     "metadata": {},
     "output_type": "execute_result"
    }
   ],
   "source": [
    "# тор-блюдце\n",
    "x = sp.cos(u) / (sp.sqrt(2) + sp.sin(v)) \n",
    "y = 1 / (sp.sqrt(2) + sp.cos(v)) \n",
    "z = sp.sin(u) / (sp.sqrt(2) + sp.sin(v))\n",
    "r = sp.Matrix([x, y, z])\n",
    "r"
   ]
  },
  {
   "cell_type": "code",
   "execution_count": 573,
   "metadata": {
    "collapsed": false
   },
   "outputs": [
    {
     "data": {
      "image/png": "[encoded data removed]",
      "text/latex": [
       "$$\\left[\\begin{matrix}\\left(3 \\cos{\\left (v \\right )} - \\cos{\\left (3 v \\right )}\\right) \\cos{\\left (u \\right )}\\\\3 \\sin{\\left (v \\right )} - \\sin{\\left (3 v \\right )}\\\\\\left(3 \\cos{\\left (v \\right )} - \\cos{\\left (3 v \\right )}\\right) \\sin{\\left (u \\right )}\\end{matrix}\\right]$$"
      ],
      "text/plain": [
       "⎡(3⋅cos(v) - cos(3⋅v))⋅cos(u)⎤\n",
       "⎢                            ⎥\n",
       "⎢    3⋅sin(v) - sin(3⋅v)     ⎥\n",
       "⎢                            ⎥\n",
       "⎣(3⋅cos(v) - cos(3⋅v))⋅sin(u)⎦"
      ]
     },
     "execution_count": 573,
     "metadata": {},
     "output_type": "execute_result"
    }
   ],
   "source": [
    "# почка\n",
    "x = sp.cos(u) *(3 *sp.cos(v) - sp.cos(3 *v)) \n",
    "y = 3 *sp.sin(v) - sp.sin(3 * v) \n",
    "z =  sp.sin(u) *(3 * sp.cos(v) - sp.cos(3 * v))\n",
    "r = sp.Matrix([x, y, z])\n",
    "r"
   ]
  },
  {
   "cell_type": "code",
   "execution_count": 193,
   "metadata": {
    "collapsed": false
   },
   "outputs": [
    {
     "data": {
      "image/png": "[encoded data removed]",
      "text/latex": [
       "$$\\left[\\begin{matrix}\\frac{1}{2} \\sin{\\left (u \\right )} \\sin{\\left (2 v \\right )}\\\\\\cos{\\left (2 u \\right )} \\cos^{2}{\\left (v \\right )}\\\\\\sin{\\left (2 u \\right )} \\cos^{2}{\\left (v \\right )}\\end{matrix}\\right]$$"
      ],
      "text/plain": [
       "⎡sin(u)⋅sin(2⋅v) ⎤\n",
       "⎢─────────────── ⎥\n",
       "⎢       2        ⎥\n",
       "⎢                ⎥\n",
       "⎢            2   ⎥\n",
       "⎢cos(2⋅u)⋅cos (v)⎥\n",
       "⎢                ⎥\n",
       "⎢            2   ⎥\n",
       "⎣sin(2⋅u)⋅cos (v)⎦"
      ]
     },
     "execution_count": 193,
     "metadata": {},
     "output_type": "execute_result"
    }
   ],
   "source": [
    "#скрещенный тор\n",
    "x = sp.sin(u) * sp.sin(2 * v) / 2 #(2+sp.cos(u))*sp.cos(v)\n",
    "y = sp.cos(2 * u) * sp.cos(v) * sp.cos(v) # (2+sp.cos(u))*sp.sin(v) \n",
    "z = sp.sin(2 * u) * sp.cos(v) * sp.cos(v) # sp.sin(u)\n",
    "r = sp.Matrix([x, y, z])\n",
    "r"
   ]
  },
  {
   "cell_type": "code",
   "execution_count": 592,
   "metadata": {
    "collapsed": false
   },
   "outputs": [
    {
     "data": {
      "image/png": "[encoded data removed]",
      "text/latex": [
       "$$\\left[\\begin{matrix}\\left(\\cos{\\left (u \\right )} + 2\\right) \\cos{\\left (v \\right )}\\\\\\left(\\cos{\\left (u \\right )} + 2\\right) \\sin{\\left (v \\right )}\\\\\\sin{\\left (u \\right )}\\end{matrix}\\right]$$"
      ],
      "text/plain": [
       "⎡(cos(u) + 2)⋅cos(v)⎤\n",
       "⎢                   ⎥\n",
       "⎢(cos(u) + 2)⋅sin(v)⎥\n",
       "⎢                   ⎥\n",
       "⎣      sin(u)       ⎦"
      ]
     },
     "execution_count": 592,
     "metadata": {},
     "output_type": "execute_result"
    }
   ],
   "source": [
    "#тор\n",
    "x = (2+sp.cos(u))*sp.cos(v)\n",
    "y = (2+sp.cos(u))*sp.sin(v) \n",
    "z =  sp.sin(u)\n",
    "r = sp.Matrix([x, y, z])\n",
    "r"
   ]
  },
  {
   "cell_type": "code",
   "execution_count": 593,
   "metadata": {
    "collapsed": false
   },
   "outputs": [
    {
     "data": {
      "image/png": "[encoded data removed]",
      "text/latex": [
       "$$\\left ( \\left[\\begin{matrix}- \\sin{\\left (u \\right )} \\cos{\\left (v \\right )}\\\\- \\sin{\\left (u \\right )} \\sin{\\left (v \\right )}\\\\\\cos{\\left (u \\right )}\\end{matrix}\\right], \\quad \\left[\\begin{matrix}- \\left(\\cos{\\left (u \\right )} + 2\\right) \\sin{\\left (v \\right )}\\\\\\left(\\cos{\\left (u \\right )} + 2\\right) \\cos{\\left (v \\right )}\\\\0\\end{matrix}\\right]\\right )$$"
      ],
      "text/plain": [
       "⎛⎡-sin(u)⋅cos(v)⎤, ⎡-(cos(u) + 2)⋅sin(v)⎤⎞\n",
       "⎜⎢              ⎥  ⎢                    ⎥⎟\n",
       "⎜⎢-sin(u)⋅sin(v)⎥  ⎢(cos(u) + 2)⋅cos(v) ⎥⎟\n",
       "⎜⎢              ⎥  ⎢                    ⎥⎟\n",
       "⎝⎣    cos(u)    ⎦  ⎣         0          ⎦⎠"
      ]
     },
     "execution_count": 593,
     "metadata": {},
     "output_type": "execute_result"
    }
   ],
   "source": [
    "#канонический базис\n",
    "e_1 = sp.diff(r, u)\n",
    "e_2 = sp.diff(r, v)\n",
    "e_1, e_2"
   ]
  },
  {
   "cell_type": "code",
   "execution_count": 594,
   "metadata": {
    "collapsed": false
   },
   "outputs": [
    {
     "data": {
      "image/png": "[encoded data removed]",
      "text/latex": [
       "$$\\left[\\begin{matrix}1 & 0\\\\0 & \\left(\\cos{\\left (u \\right )} + 2\\right)^{2}\\end{matrix}\\right]$$"
      ],
      "text/plain": [
       "⎡1        0      ⎤\n",
       "⎢                ⎥\n",
       "⎢               2⎥\n",
       "⎣0  (cos(u) + 2) ⎦"
      ]
     },
     "execution_count": 594,
     "metadata": {},
     "output_type": "execute_result"
    }
   ],
   "source": [
    "#первая квадратичная форма\n",
    "first_fund_form = sp.Matrix([[e_1.dot(e_1), e_1.dot(e_2)], [e_2.dot(e_1), e_2.dot(e_2)]])\n",
    "first_fund_form.simplify()\n",
    "first_fund_form"
   ]
  },
  {
   "cell_type": "code",
   "execution_count": 595,
   "metadata": {
    "collapsed": false
   },
   "outputs": [
    {
     "data": {
      "image/png": "[encoded data removed]",
      "text/latex": [
       "$$\\left[\\begin{matrix}- \\left(\\cos{\\left (u \\right )} + 2\\right) \\cos{\\left (u \\right )} \\cos{\\left (v \\right )}\\\\- \\left(\\cos{\\left (u \\right )} + 2\\right) \\sin{\\left (v \\right )} \\cos{\\left (u \\right )}\\\\- \\left(\\cos{\\left (u \\right )} + 2\\right) \\sin{\\left (u \\right )}\\end{matrix}\\right]$$"
      ],
      "text/plain": [
       "⎡-(cos(u) + 2)⋅cos(u)⋅cos(v)⎤\n",
       "⎢                           ⎥\n",
       "⎢-(cos(u) + 2)⋅sin(v)⋅cos(u)⎥\n",
       "⎢                           ⎥\n",
       "⎣   -(cos(u) + 2)⋅sin(u)    ⎦"
      ]
     },
     "execution_count": 595,
     "metadata": {},
     "output_type": "execute_result"
    }
   ],
   "source": [
    "#нормаль в точке\n",
    "norm = e_1.cross(e_2)\n",
    "norm.simplify()\n",
    "#norm = norm / norm.norm()\n",
    "norm"
   ]
  },
  {
   "cell_type": "code",
   "execution_count": 596,
   "metadata": {
    "collapsed": false
   },
   "outputs": [
    {
     "data": {
      "image/png": "[encoded data removed]",
      "text/latex": [
       "$$\\left[\\begin{matrix}\\cos{\\left (u \\right )} + 2 & 0\\\\0 & \\left(\\cos{\\left (u \\right )} + 2\\right)^{2} \\cos{\\left (u \\right )}\\end{matrix}\\right]$$"
      ],
      "text/plain": [
       "⎡cos(u) + 2           0          ⎤\n",
       "⎢                                ⎥\n",
       "⎢                        2       ⎥\n",
       "⎣    0       (cos(u) + 2) ⋅cos(u)⎦"
      ]
     },
     "execution_count": 596,
     "metadata": {},
     "output_type": "execute_result"
    }
   ],
   "source": [
    "#вторая квадратичная форма\n",
    "r_u = sp.diff(r, u)\n",
    "r_v = sp.diff(r, v)\n",
    "r_uu = sp.diff(r_u, u)\n",
    "r_uv = sp.diff(r_u, v)\n",
    "r_vu = sp.diff(r_v, u)\n",
    "r_vv = sp.diff(r_v, v)\n",
    "second_fund_form = sp.Matrix([[r_uu.dot(norm), r_uv.dot(norm)], [r_vu.dot(norm), r_vv.dot(norm)]])\n",
    "second_fund_form.simplify()\n",
    "second_fund_form"
   ]
  },
  {
   "cell_type": "code",
   "execution_count": 597,
   "metadata": {
    "collapsed": false
   },
   "outputs": [
    {
     "data": {
      "image/png": "[encoded data removed]",
      "text/latex": [
       "$$\\lambda^{2} \\cos^{2}{\\left (u \\right )} + 4 \\lambda^{2} \\cos{\\left (u \\right )} + 4 \\lambda^{2} - 2 \\lambda \\cos^{3}{\\left (u \\right )} - 10 \\lambda \\cos^{2}{\\left (u \\right )} - 16 \\lambda \\cos{\\left (u \\right )} - 8 \\lambda + \\cos^{4}{\\left (u \\right )} + 6 \\cos^{3}{\\left (u \\right )} + 12 \\cos^{2}{\\left (u \\right )} + 8 \\cos{\\left (u \\right )}$$"
      ],
      "text/plain": [
       "       2    2               2                   2                3            \n",
       "\\lambda ⋅cos (u) + 4⋅\\lambda ⋅cos(u) + 4⋅\\lambda  - 2⋅\\lambda⋅cos (u) - 10⋅\\la\n",
       "\n",
       "        2                                         4           3            2  \n",
       "mbda⋅cos (u) - 16⋅\\lambda⋅cos(u) - 8⋅\\lambda + cos (u) + 6⋅cos (u) + 12⋅cos (u\n",
       "\n",
       "            \n",
       ") + 8⋅cos(u)"
      ]
     },
     "execution_count": 597,
     "metadata": {},
     "output_type": "execute_result"
    }
   ],
   "source": [
    "lambda_ = sp.Symbol('\\lambda', real=True)\n",
    "A = second_fund_form - lambda_*first_fund_form\n",
    "A.simplify()\n",
    "det = (A).det()\n",
    "det.simplify()\n",
    "det"
   ]
  },
  {
   "cell_type": "code",
   "execution_count": 598,
   "metadata": {
    "collapsed": false
   },
   "outputs": [],
   "source": [
    "#находим главные кривизны\n",
    "lambdas = sp.solveset(det, lambda_)"
   ]
  },
  {
   "cell_type": "code",
   "execution_count": 599,
   "metadata": {
    "collapsed": false
   },
   "outputs": [
    {
     "data": {
      "image/png": "[encoded data removed]",
      "text/latex": [
       "$$\\left ( \\cos{\\left (u \\right )}, \\quad \\cos{\\left (u \\right )} + 2\\right )$$"
      ],
      "text/plain": [
       "(cos(u), cos(u) + 2)"
      ]
     },
     "execution_count": 599,
     "metadata": {},
     "output_type": "execute_result"
    }
   ],
   "source": [
    "lambda_1 = list(lambdas)[0]\n",
    "lambda_2 = list(lambdas)[1]\n",
    "lambda_1.simplify()\n",
    "lambda_2.simplify()\n",
    "lambda_1, lambda_2"
   ]
  },
  {
   "cell_type": "code",
   "execution_count": 600,
   "metadata": {
    "collapsed": false
   },
   "outputs": [],
   "source": [
    "# a_1, b_1 -- координаты главного направления в каноническом базисе\n",
    "a_1, b_1 = sp.symbols('a_1 b_1', real=True)"
   ]
  },
  {
   "cell_type": "code",
   "execution_count": 601,
   "metadata": {
    "collapsed": false
   },
   "outputs": [
    {
     "data": {
      "image/png": "[encoded data removed]",
      "text/latex": [
       "$$\\left ( \\left[\\begin{matrix}2 & 0 & 0\\\\0 & 0 & 0\\end{matrix}\\right], \\quad \\left[\\begin{matrix}0\\\\0\\end{matrix}\\right]\\right )$$"
      ],
      "text/plain": [
       "⎛⎡2  0  0⎤, ⎡0⎤⎞\n",
       "⎜⎢       ⎥  ⎢ ⎥⎟\n",
       "⎝⎣0  0  0⎦  ⎣0⎦⎠"
      ]
     },
     "execution_count": 601,
     "metadata": {},
     "output_type": "execute_result"
    }
   ],
   "source": [
    "#находим координаты нового базиса\n",
    "A = (second_fund_form - lambda_1 * first_fund_form)\n",
    "A.simplify()\n",
    "b = sp.Matrix([0, 0])\n",
    "A = A.col_insert(2, b)\n",
    "A, b"
   ]
  },
  {
   "cell_type": "code",
   "execution_count": 602,
   "metadata": {
    "collapsed": false
   },
   "outputs": [],
   "source": [
    "A_1 = sp.linsolve(A, (a_1, b_1))"
   ]
  },
  {
   "cell_type": "code",
   "execution_count": 603,
   "metadata": {
    "collapsed": false
   },
   "outputs": [
    {
     "data": {
      "image/png": "[encoded data removed]",
      "text/latex": [
       "$$\\left ( \\left[\\begin{matrix}0 & 0 & 0\\\\0 & - 2 \\left(\\cos{\\left (u \\right )} + 2\\right)^{2} & 0\\end{matrix}\\right], \\quad \\left[\\begin{matrix}0\\\\0\\end{matrix}\\right]\\right )$$"
      ],
      "text/plain": [
       "⎛⎡0         0          0⎤, ⎡0⎤⎞\n",
       "⎜⎢                      ⎥  ⎢ ⎥⎟\n",
       "⎜⎢                  2   ⎥  ⎣0⎦⎟\n",
       "⎝⎣0  -2⋅(cos(u) + 2)   0⎦     ⎠"
      ]
     },
     "execution_count": 603,
     "metadata": {},
     "output_type": "execute_result"
    }
   ],
   "source": [
    "A = (second_fund_form - lambda_2 * first_fund_form)\n",
    "A.simplify()\n",
    "b = sp.Matrix([0, 0])\n",
    "A = A.col_insert(2, b)\n",
    "A, b"
   ]
  },
  {
   "cell_type": "code",
   "execution_count": 604,
   "metadata": {
    "collapsed": false
   },
   "outputs": [],
   "source": [
    "A_2 = sp.linsolve(A, (a_1, b_1))"
   ]
  },
  {
   "cell_type": "code",
   "execution_count": 605,
   "metadata": {
    "collapsed": false
   },
   "outputs": [
    {
     "data": {
      "image/png": "[encoded data removed]",
      "text/latex": [
       "$$\\left ( \\left\\{\\left ( 0, \\quad b_{1}\\right )\\right\\}, \\quad \\left\\{\\left ( a_{1}, \\quad 0\\right )\\right\\}\\right )$$"
      ],
      "text/plain": [
       "({(0, b₁)}, {(a₁, 0)})"
      ]
     },
     "execution_count": 605,
     "metadata": {},
     "output_type": "execute_result"
    }
   ],
   "source": [
    "A_1, A_2"
   ]
  },
  {
   "cell_type": "code",
   "execution_count": 606,
   "metadata": {
    "collapsed": false
   },
   "outputs": [
    {
     "data": {
      "image/png": "[encoded data removed]",
      "text/latex": [
       "$$\\left ( \\left ( 0, \\quad 1\\right ), \\quad \\left ( 1, \\quad 0\\right )\\right )$$"
      ],
      "text/plain": [
       "((0, 1), (1, 0))"
      ]
     },
     "execution_count": 606,
     "metadata": {},
     "output_type": "execute_result"
    }
   ],
   "source": [
    "func_1 = sp.lambdify((a_1, b_1), A_1)\n",
    "func_2 = sp.lambdify((a_1, b_1), A_2)\n",
    "A_1 = list(func_1(1, 1))[0]\n",
    "A_2 = list(func_2(1, 1))[0]\n",
    "A_1, A_2"
   ]
  },
  {
   "cell_type": "code",
   "execution_count": 607,
   "metadata": {
    "collapsed": false
   },
   "outputs": [
    {
     "data": {
      "image/png": "[encoded data removed]",
      "text/latex": [
       "$$\\left ( \\left[\\begin{matrix}- \\left(\\cos{\\left (u \\right )} + 2\\right) \\sin{\\left (v \\right )}\\\\\\left(\\cos{\\left (u \\right )} + 2\\right) \\cos{\\left (v \\right )}\\\\0\\end{matrix}\\right], \\quad \\left[\\begin{matrix}- \\sin{\\left (u \\right )} \\cos{\\left (v \\right )}\\\\- \\sin{\\left (u \\right )} \\sin{\\left (v \\right )}\\\\\\cos{\\left (u \\right )}\\end{matrix}\\right]\\right )$$"
      ],
      "text/plain": [
       "⎛⎡-(cos(u) + 2)⋅sin(v)⎤, ⎡-sin(u)⋅cos(v)⎤⎞\n",
       "⎜⎢                    ⎥  ⎢              ⎥⎟\n",
       "⎜⎢(cos(u) + 2)⋅cos(v) ⎥  ⎢-sin(u)⋅sin(v)⎥⎟\n",
       "⎜⎢                    ⎥  ⎢              ⎥⎟\n",
       "⎝⎣         0          ⎦  ⎣    cos(u)    ⎦⎠"
      ]
     },
     "execution_count": 607,
     "metadata": {},
     "output_type": "execute_result"
    }
   ],
   "source": [
    "#находим главные направления\n",
    "H_1 = A_1[0] * e_1 + A_1[1] * e_2\n",
    "H_2 = A_2[0] * e_1 + A_2[1] * e_2\n",
    "H_1, H_2"
   ]
  },
  {
   "cell_type": "code",
   "execution_count": 608,
   "metadata": {
    "collapsed": false
   },
   "outputs": [],
   "source": [
    "# возвращает главное направление, соответствующее минимальной главной кривизне\n",
    "# def return_min_h():\n",
    "#     if lambda_1 is sp.Min(lambda_1, lambda_2): \n",
    "#         return H_1\n",
    "#     else:\n",
    "#         return H_2"
   ]
  },
  {
   "cell_type": "code",
   "execution_count": 609,
   "metadata": {
    "collapsed": false,
    "scrolled": true
   },
   "outputs": [
    {
     "data": {
      "image/png": "[encoded data removed]",
      "text/latex": [
       "$$\\frac{\\pi}{2}$$"
      ],
      "text/plain": [
       "π\n",
       "─\n",
       "2"
      ]
     },
     "execution_count": 609,
     "metadata": {},
     "output_type": "execute_result"
    }
   ],
   "source": [
    "f = sp.acos(H_1.dot(e_1) / ((H_1).norm() * e_1.norm()))\n",
    "f.simplify()"
   ]
  }
 ],
 "metadata": {
  "kernelspec": {
   "display_name": "Python 3",
   "language": "python",
   "name": "python3"
  },
  "language_info": {
   "codemirror_mode": {
    "name": "ipython",
    "version": 3
   },
   "file_extension": ".py",
   "mimetype": "text/x-python",
   "name": "python",
   "nbconvert_exporter": "python",
   "pygments_lexer": "ipython3",
   "version": "3.6.0"
  }
 },
 "nbformat": 4,
 "nbformat_minor": 2
}
